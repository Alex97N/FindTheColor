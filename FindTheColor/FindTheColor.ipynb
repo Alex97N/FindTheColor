{
  "nbformat": 4,
  "nbformat_minor": 0,
  "metadata": {
    "colab": {
      "name": "ES_ColorTeller-3.ipynb",
      "provenance": [],
      "collapsed_sections": [],
      "toc_visible": true
    },
    "kernelspec": {
      "name": "python3",
      "display_name": "Python 3"
    },
    "accelerator": "GPU"
  },
  "cells": [
    {
      "cell_type": "code",
      "metadata": {
        "id": "Xi1WxE0_A4ZD",
        "colab_type": "code",
        "colab": {}
      },
      "source": [
        "import numpy as np\n",
        "import PIL\n",
        "from PIL import Image\n",
        "import csv\n",
        "from csv import DictReader"
      ],
      "execution_count": 0,
      "outputs": []
    },
    {
      "cell_type": "code",
      "metadata": {
        "id": "HAnrjAiOQJE7",
        "colab_type": "code",
        "colab": {}
      },
      "source": [
        "colors_dictionary = [];\n",
        "max_initial_difference = 2\n",
        "\n",
        "with open('dataset/colors.csv', 'r') as read_obj:\n",
        "  dict_reader = DictReader(read_obj)\n",
        "  colors_dictionary_aux = list(dict_reader)\n",
        "  colors_dictionary = colors_dictionary_aux\n",
        "\n",
        "colors_dictionary_size = len(colors_dictionary);"
      ],
      "execution_count": 0,
      "outputs": []
    },
    {
      "cell_type": "code",
      "metadata": {
        "id": "1f3Ncv9lBEqj",
        "colab_type": "code",
        "colab": {}
      },
      "source": [
        "# Open an Image\n",
        "def open_image(path):\n",
        "  newImage = Image.open(path)\n",
        "  return newImage\n",
        "\n",
        "# Save Image\n",
        "def save_image(image, path):\n",
        "  image.save(path, 'png')\n",
        "\n",
        "# Create a new image with the given size\n",
        "def create_image(i, j):\n",
        "  image = Image.new(\"RGB\", (i, j), \"white\")\n",
        "  return image\n",
        "\n",
        "# Get the pixel from the given image\n",
        "def get_pixel(image, i, j):\n",
        "    # Inside image bounds?\n",
        "    width, height = image.size\n",
        "    if i > height or j > width:\n",
        "      return None\n",
        "\n",
        "    # Get Pixel\n",
        "    pixel = image.getpixel((j, i))\n",
        "    return pixel"
      ],
      "execution_count": 0,
      "outputs": []
    },
    {
      "cell_type": "code",
      "metadata": {
        "id": "6zb_gHgYXP2p",
        "colab_type": "code",
        "colab": {}
      },
      "source": [
        " def find_pixel_color_in_csv_increasing_interval(i, j, max_difference, red, green, blue):\n",
        "  #pixel_color_found = False;\n",
        "  for k in range(colors_dictionary_size):\n",
        "         if red >= int(colors_dictionary[k]['red']) - max_difference and red <= int(colors_dictionary[k]['red']) + max_difference and green >= int(colors_dictionary[k]['green']) - max_difference and green <= int(colors_dictionary[k]['green']) + max_difference and blue >= int(colors_dictionary[k]['blue']) - max_difference and blue <= int(colors_dictionary[k]['blue']) + max_difference:\n",
        "           #print(colors_dictionary[k]['name'])     \n",
        "           return colors_dictionary[k]['name'] + ' ('+colors_dictionary[k]['red']+','+colors_dictionary[k]['green']+','+colors_dictionary[k]['blue']+')'\n",
        "           #pixel_color_found = True\n",
        "           #break\n",
        "  #if pixel_color_found == False:\n",
        "  return find_pixel_color_in_csv_increasing_interval(i, j, max_difference + max_initial_difference, red, green, blue)       "
      ],
      "execution_count": 0,
      "outputs": []
    },
    {
      "cell_type": "code",
      "metadata": {
        "id": "kg-7fHAKiz0T",
        "colab_type": "code",
        "colab": {}
      },
      "source": [
        " def find_pixel_color_in_csv_smallest_grade(i, j, red, green, blue):\n",
        "  color_grades_for_pixel = ['none'] * colors_dictionary_size\n",
        "  for k in range(colors_dictionary_size):\n",
        "    color_grades_for_pixel[k] = abs(red - int(colors_dictionary[k]['red'])) + abs(green - int(colors_dictionary[k]['green'])) + abs(blue - int(colors_dictionary[k]['blue']))\n",
        "  \n",
        "  smallest_grade_for_pixel = 257;\n",
        "  color_with_smallest_grade = 'none';\n",
        "  for k in range(colors_dictionary_size):\n",
        "    if (color_grades_for_pixel[k] < smallest_grade_for_pixel):\n",
        "      color_with_smallest_grade = colors_dictionary[k]['name'] + ' ('+colors_dictionary[k]['red']+','+colors_dictionary[k]['green']+','+colors_dictionary[k]['blue']+')'\n",
        "      smallest_grade_for_pixel = color_grades_for_pixel[k]\n",
        "    \n",
        "  #print(color_with_smallest_grade)\n",
        "  return color_with_smallest_grade     "
      ],
      "execution_count": 0,
      "outputs": []
    },
    {
      "cell_type": "code",
      "metadata": {
        "id": "neF6LAF8BbGp",
        "colab_type": "code",
        "colab": {}
      },
      "source": [
        "def analyze_color_of_image_pixels(image):\n",
        "  # Get size\n",
        "  height = image.height\n",
        "  width = image.width\n",
        "  \n",
        "  for i in range(height):\n",
        "    for j in range(width):\n",
        "      # Get Pixel\n",
        "      pixel = get_pixel(image, i, j)\n",
        "\n",
        "      # Get R, G, B values (This are int from 0 to 255)\n",
        "      red =   pixel[0]\n",
        "      green = pixel[1]\n",
        "      blue =  pixel[2]\n",
        "\n",
        "      print(\"\\nPixel\", i, j, \"with\", \"red\", red, \"green\", green, \"blue\", blue, sep=\" \")\n",
        "      print(\"Increasing interval method:\")\n",
        "      print(find_pixel_color_in_csv_increasing_interval(i, j, max_initial_difference, red, green, blue));\n",
        "      print(\"Smallest grade method:\")\n",
        "      print (find_pixel_color_in_csv_smallest_grade(i, j, red, green, blue))"
      ],
      "execution_count": 0,
      "outputs": []
    },
    {
      "cell_type": "code",
      "metadata": {
        "id": "v-fEl40zmhLK",
        "colab_type": "code",
        "colab": {}
      },
      "source": [
        "image = open_image(\"image/image.png\")\n",
        "#image"
      ],
      "execution_count": 0,
      "outputs": []
    },
    {
      "cell_type": "code",
      "metadata": {
        "id": "mOvs0TqBCSqi",
        "colab_type": "code",
        "colab": {}
      },
      "source": [
        "def writeCSVofImage(iamge):\n",
        "  with open('imageColors.csv','w', newline='') as csvOut:\n",
        "    header = ['imageX','imageY','pixel RGB','Increasing Interval M','Smallest Grade M']\n",
        "    w = csv.DictWriter(csvOut,fieldnames=header)\n",
        "    w.writeheader();\n",
        "\n",
        "    height = image.height\n",
        "    width = image.width\n",
        "\n",
        "    for i in range(height):\n",
        "      for j in range(width):\n",
        "        pixel = get_pixel(image, i, j)\n",
        "\n",
        "        red =   pixel[0]\n",
        "        green = pixel[1]\n",
        "        blue =  pixel[2]\n",
        "\n",
        "        w.writerow({\n",
        "            'imageX' : i,\n",
        "            'imageY' : j,\n",
        "            'pixel RGB' : '('+str(red)+','+str(green)+','+str(blue)+')',\n",
        "            'Increasing Interval M' : find_pixel_color_in_csv_increasing_interval(i, j, max_initial_difference, red, green, blue),\n",
        "            'Smallest Grade M' : find_pixel_color_in_csv_smallest_grade(i, j, red, green, blue)\n",
        "        })\n"
      ],
      "execution_count": 0,
      "outputs": []
    },
    {
      "cell_type": "code",
      "metadata": {
        "id": "y_jT0meWm1TN",
        "colab_type": "code",
        "colab": {}
      },
      "source": [
        "# analyze_color_of_image_pixels(image)\n",
        "writeCSVofImage(image)"
      ],
      "execution_count": 0,
      "outputs": []
    }
  ]
}